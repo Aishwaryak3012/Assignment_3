{
 "cells": [
  {
   "cell_type": "markdown",
   "id": "18abbb03",
   "metadata": {},
   "source": [
    "### Write a Python function to sum all the numbers in a list"
   ]
  },
  {
   "cell_type": "code",
   "execution_count": 2,
   "id": "d39d70e0",
   "metadata": {},
   "outputs": [
    {
     "name": "stdout",
     "output_type": "stream",
     "text": [
      "Enter the elements :8,2,3,0,7\n",
      "<class 'list'>\n",
      "20\n"
     ]
    }
   ],
   "source": [
    "def sum_l(num):\n",
    "  total = 0\n",
    "  for num in num:\n",
    "    total+=num\n",
    "  return total\n",
    "sample_list=list(map(int,input(\"Enter the elements :\").split(\",\")))\n",
    "print(type(sample_list))\n",
    "result = sum_l(sample_list)\n",
    "print(result)"
   ]
  },
  {
   "cell_type": "markdown",
   "id": "29c92711",
   "metadata": {},
   "source": [
    "### Write a Python program to reverse a string"
   ]
  },
  {
   "cell_type": "code",
   "execution_count": 6,
   "id": "3a90d73c",
   "metadata": {},
   "outputs": [
    {
     "name": "stdout",
     "output_type": "stream",
     "text": [
      "Enter the string :1234abcd\n",
      "dcba4321\n"
     ]
    }
   ],
   "source": [
    "def reverse(string):\n",
    "    string = string[::-1]\n",
    "    return string\n",
    "string = input(\"Enter the string :\")\n",
    "print(reverse(string))"
   ]
  },
  {
   "cell_type": "markdown",
   "id": "4743e127",
   "metadata": {},
   "source": [
    "## OR"
   ]
  },
  {
   "cell_type": "code",
   "execution_count": 7,
   "id": "7527ccd3",
   "metadata": {},
   "outputs": [
    {
     "name": "stdout",
     "output_type": "stream",
     "text": [
      "Enter the string: 1234abcd\n",
      "Reversed string: dcba4321\n"
     ]
    }
   ],
   "source": [
    "def reverse_string(input_string):\n",
    "    reversed_string = \"\"\n",
    "    for char in input_string:\n",
    "        reversed_string = char + reversed_string\n",
    "    return reversed_string\n",
    "def main():\n",
    "\n",
    "    user_input = input(\"Enter the string: \")\n",
    "    reversed_input = reverse_string(user_input)\n",
    "    print(\"Reversed string:\", reversed_input)\n",
    "main()"
   ]
  },
  {
   "cell_type": "markdown",
   "id": "56e25601",
   "metadata": {},
   "source": [
    "### Write a Python function that accepts a string and calculate the number of upper case letters and lower case letters."
   ]
  },
  {
   "cell_type": "code",
   "execution_count": 7,
   "id": "b332b0ba",
   "metadata": {},
   "outputs": [
    {
     "name": "stdout",
     "output_type": "stream",
     "text": [
      "Enter a string: The quick Brow Fox\n",
      "Number of uppercase letters: 3\n",
      "Number of lowercase letters: 12\n"
     ]
    }
   ],
   "source": [
    "def count_upper_lower(input_string):\n",
    "    uppercase_count = 0\n",
    "    lowercase_count = 0\n",
    "\n",
    "    for char in input_string:\n",
    "        if char.isupper():\n",
    "            uppercase_count += 1\n",
    "        elif char.islower():\n",
    "            lowercase_count += 1\n",
    "\n",
    "    return uppercase_count, lowercase_count\n",
    "\n",
    "def main():\n",
    "\n",
    "    user_input = input(\"Enter a string: \")\n",
    "    upper_count, lower_count = count_upper_lower(user_input)\n",
    "    print(\"Number of uppercase letters:\", upper_count)\n",
    "    print(\"Number of lowercase letters:\", lower_count)\n",
    "\n",
    "\n",
    "main()"
   ]
  }
 ],
 "metadata": {
  "kernelspec": {
   "display_name": "Python 3 (ipykernel)",
   "language": "python",
   "name": "python3"
  },
  "language_info": {
   "codemirror_mode": {
    "name": "ipython",
    "version": 3
   },
   "file_extension": ".py",
   "mimetype": "text/x-python",
   "name": "python",
   "nbconvert_exporter": "python",
   "pygments_lexer": "ipython3",
   "version": "3.10.9"
  }
 },
 "nbformat": 4,
 "nbformat_minor": 5
}
